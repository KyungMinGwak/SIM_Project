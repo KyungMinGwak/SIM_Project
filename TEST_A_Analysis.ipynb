{
 "cells": [
  {
   "cell_type": "code",
   "execution_count": 2,
   "metadata": {},
   "outputs": [],
   "source": [
    "import matplotlib.pyplot as plt\n",
    "import pandas as pd"
   ]
  },
  {
   "cell_type": "code",
   "execution_count": 4,
   "metadata": {},
   "outputs": [
    {
     "name": "stdout",
     "output_type": "stream",
     "text": [
      "Int64Index([0, 0, 0, 0, 0, 0, 0, 0, 0, 0,\n",
      "            ...\n",
      "            0, 0, 0, 0, 1, 0, 0, 0, 0, 0],\n",
      "           dtype='int64', name='Defect Status', length=1054)\n"
     ]
    }
   ],
   "source": [
    "# Pandas 로 CSV 파일 읽어 들이기\n",
    "df = pd.read_csv(\"Test A.csv\",index_col = 7)\n"
   ]
  },
  {
   "cell_type": "code",
   "execution_count": 9,
   "metadata": {},
   "outputs": [
    {
     "data": {
      "image/png": "[encoded data removed]",
      "text/plain": [
       "<Figure size 432x288 with 1 Axes>"
      ]
     },
     "metadata": {
      "needs_background": "light"
     },
     "output_type": "display_data"
    }
   ],
   "source": [
    "#그래프 그리기 시작\n",
    "fig = plt.figure()\n",
    "ax = fig.add_subplot(1,1,1)\n",
    "\n",
    "# 서브플롯 전용 - 지정한 레이블을 임의의 색으로 칠하기\n",
    "def scatter(lbl,color):\n",
    "    b= df.loc[lbl]\n",
    "    ax.scatter(b[\"Temper\"],b[\"Humidity\"],c=color,label = lbl)\n",
    "    \n",
    "scatter(0,\"red\")\n",
    "scatter(1,\"yellow\")\n",
    "\n",
    "\n",
    "plt.xlabel(\"Temp\")\n",
    "plt.ylabel(\"Humi\")\n",
    "ax.legend()\n",
    "plt.savefig(\"A공정에서의 온도와 습도에 의한 불량품.png\")\n",
    "plt.show()"
   ]
  },
  {
   "cell_type": "markdown",
   "metadata": {},
   "source": [
    "데이터가 정수형이기 때문에 (범위가 넓지도 않고) 모양이 이쁘게 안나옴 소수점까지 표현하면 촘촘하게 나와\n",
    "훨씬 이쁜그림나올것 데이터도 많아야함"
   ]
  }
 ],
 "metadata": {
  "kernelspec": {
   "display_name": "Python 3",
   "language": "python",
   "name": "python3"
  },
  "language_info": {
   "codemirror_mode": {
    "name": "ipython",
    "version": 3
   },
   "file_extension": ".py",
   "mimetype": "text/x-python",
   "name": "python",
   "nbconvert_exporter": "python",
   "pygments_lexer": "ipython3",
   "version": "3.6.8"
  }
 },
 "nbformat": 4,
 "nbformat_minor": 2
}
