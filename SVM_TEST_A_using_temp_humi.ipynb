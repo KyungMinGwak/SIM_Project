{
 "cells": [
  {
   "cell_type": "code",
   "execution_count": 1,
   "metadata": {},
   "outputs": [],
   "source": [
    "from sklearn import svm, metrics\n",
    "from sklearn.model_selection import train_test_split\n",
    "import matplotlib.pyplot as plt\n",
    "import pandas as pd"
   ]
  },
  {
   "cell_type": "code",
   "execution_count": 2,
   "metadata": {},
   "outputs": [],
   "source": [
    "# 1. 데이터 읽어들이기\n",
    "tbl = pd.read_csv(\"Test A.csv\")"
   ]
  },
  {
   "cell_type": "code",
   "execution_count": 3,
   "metadata": {},
   "outputs": [],
   "source": [
    "# 2. 칼럼(열) 자르고 졍규화 하기\n",
    "label = tbl[\"Defect Status\"]\n",
    "w = tbl[\"Temper\"]\n",
    "h = tbl[\"Humidity\"]\n",
    "c = tbl[\"Completeness\"].str[:-1]\n",
    "#whc = pd.concat([w,h],axis=1)   #온도와 습도만을 이용한 방법\n",
    "whc = pd.concat([w,h,c],axis=1)#온도와 습도와 완성도를 이용한 방법"
   ]
  },
  {
   "cell_type": "code",
   "execution_count": 4,
   "metadata": {},
   "outputs": [
    {
     "name": "stdout",
     "output_type": "stream",
     "text": [
      "      Temper  Humidity Completeness\n",
      "0         24        55          100\n",
      "1         24        55          100\n",
      "2         25        54          100\n",
      "3         25        54          100\n",
      "4         24        54          100\n",
      "5         24        54          100\n",
      "6         25        55          100\n",
      "7         25        55          100\n",
      "8         26        55          100\n",
      "9         26        55          100\n",
      "10        26        54          100\n",
      "11        26        54          100\n",
      "12        26        54          100\n",
      "13        27        53          100\n",
      "14        27        53          100\n",
      "15        27        53          100\n",
      "16        27        53          100\n",
      "17        27        52          100\n",
      "18        26        52          100\n",
      "19        26        52          100\n",
      "20        26        52          100\n",
      "21        25        53          100\n",
      "22        25        53          100\n",
      "23        24        53          100\n",
      "24        24        51          100\n",
      "25        25        51          100\n",
      "26        25        51          100\n",
      "27        25        50          100\n",
      "28        26        50          100\n",
      "29        26        50          100\n",
      "...      ...       ...          ...\n",
      "1024      23        74           50\n",
      "1025      22        74           50\n",
      "1026      22        74           50\n",
      "1027      22        74           50\n",
      "1028      22        75           50\n",
      "1029      22        75           50\n",
      "1030      21        75           50\n",
      "1031      21        74           50\n",
      "1032      21        74           50\n",
      "1033      21        75           50\n",
      "1034      21        75           50\n",
      "1035      21        74           50\n",
      "1036      21        75           50\n",
      "1037      22        75           50\n",
      "1038      22        76           50\n",
      "1039      23        75           50\n",
      "1040      23        74           50\n",
      "1041      23        73           50\n",
      "1042      23        72           50\n",
      "1043      23        71           50\n",
      "1044      23        70           70\n",
      "1045      23        69           70\n",
      "1046      24        68           70\n",
      "1047      24        65           70\n",
      "1048      24        64           70\n",
      "1049      24        62           70\n",
      "1050      23        60           70\n",
      "1051      23        58           70\n",
      "1052      24        56           70\n",
      "1053      24        56           70\n",
      "\n",
      "[1054 rows x 3 columns]\n"
     ]
    }
   ],
   "source": [
    "print(whc.)"
   ]
  },
  {
   "cell_type": "code",
   "execution_count": 5,
   "metadata": {},
   "outputs": [],
   "source": [
    "# 3. 학습 전용 데이터와 테스트 전용 데이터로 나누기\n",
    "x_train, x_test, y_train, y_test = train_test_split(whc,label)"
   ]
  },
  {
   "cell_type": "code",
   "execution_count": 6,
   "metadata": {},
   "outputs": [
    {
     "name": "stderr",
     "output_type": "stream",
     "text": [
      "C:\\Users\\Administrator\\Anaconda3\\lib\\site-packages\\sklearn\\svm\\base.py:196: FutureWarning: The default value of gamma will change from 'auto' to 'scale' in version 0.22 to account better for unscaled features. Set gamma explicitly to 'auto' or 'scale' to avoid this warning.\n",
      "  \"avoid this warning.\", FutureWarning)\n"
     ]
    },
    {
     "data": {
      "text/plain": [
       "SVC(C=1.0, cache_size=200, class_weight=None, coef0=0.0,\n",
       "  decision_function_shape='ovr', degree=3, gamma='auto_deprecated',\n",
       "  kernel='rbf', max_iter=-1, probability=False, random_state=None,\n",
       "  shrinking=True, tol=0.001, verbose=False)"
      ]
     },
     "execution_count": 6,
     "metadata": {},
     "output_type": "execute_result"
    }
   ],
   "source": [
    "# 4. 데이터 학습하기\n",
    "clf = svm.SVC()\n",
    "clf.fit(x_train, y_train)"
   ]
  },
  {
   "cell_type": "code",
   "execution_count": 7,
   "metadata": {},
   "outputs": [],
   "source": [
    "# 5. 데이터 예측하기\n",
    "predict = clf.predict(x_test)"
   ]
  },
  {
   "cell_type": "code",
   "execution_count": 8,
   "metadata": {},
   "outputs": [
    {
     "name": "stdout",
     "output_type": "stream",
     "text": [
      "정답률 :  0.875\n",
      "리포트 =\n",
      "               precision    recall  f1-score   support\n",
      "\n",
      "           0       0.89      0.98      0.93       229\n",
      "           1       0.60      0.17      0.27        35\n",
      "\n",
      "   micro avg       0.88      0.88      0.88       264\n",
      "   macro avg       0.74      0.58      0.60       264\n",
      "weighted avg       0.85      0.88      0.84       264\n",
      "\n"
     ]
    }
   ],
   "source": [
    "# 6. 결과 테스트\n",
    "ac_score = metrics.accuracy_score(y_test,predict)\n",
    "cl_report = metrics.classification_report(y_test,predict)\n",
    "\n",
    "print(\"정답률 : \", ac_score)\n",
    "print(\"리포트 =\\n\", cl_report)"
   ]
  }
 ],
 "metadata": {
  "kernelspec": {
   "display_name": "Python 3",
   "language": "python",
   "name": "python3"
  },
  "language_info": {
   "codemirror_mode": {
    "name": "ipython",
    "version": 3
   },
   "file_extension": ".py",
   "mimetype": "text/x-python",
   "name": "python",
   "nbconvert_exporter": "python",
   "pygments_lexer": "ipython3",
   "version": "3.6.8"
  }
 },
 "nbformat": 4,
 "nbformat_minor": 2
}
