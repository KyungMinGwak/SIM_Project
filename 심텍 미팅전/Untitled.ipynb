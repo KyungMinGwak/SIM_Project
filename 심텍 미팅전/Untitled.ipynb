{
 "cells": [
  {
   "cell_type": "code",
   "execution_count": 2,
   "metadata": {
    "scrolled": false
   },
   "outputs": [
    {
     "name": "stderr",
     "output_type": "stream",
     "text": [
      "Using TensorFlow backend.\n"
     ]
    }
   ],
   "source": [
    "##############################################\n",
    "# Modeling\n",
    "##############################################\n",
    "from keras import layers, models\n",
    "from sklearn import preprocessing\n",
    "import numpy as np\n",
    "import matplotlib.pyplot as plt\n",
    "import matplotlib.font_manager as fm\n",
    "import matplotlib as mpl\n",
    "from sklearn.model_selection import train_test_split\n",
    "\n",
    "\n",
    "plt.rcParams['font.family'] = \"Malgun Gothic\"\n",
    "mpl.rcParams['axes.unicode_minus'] = False\n",
    "%matplotlib inline\n",
    "\n",
    "#gpu sync problem\n",
    "import tensorflow as tf\n",
    "from keras.backend import tensorflow_backend as K\n",
    "config = tf.ConfigProto()\n",
    "config.gpu_options.allow_growth = True\n",
    "K.set_session(tf.Session(config=config))"
   ]
  },
  {
   "cell_type": "code",
   "execution_count": 3,
   "metadata": {},
   "outputs": [],
   "source": [
    "a= [[1,2,3,],[4,5,6],[6,7,8],[9,10,11]]"
   ]
  },
  {
   "cell_type": "code",
   "execution_count": 5,
   "metadata": {},
   "outputs": [],
   "source": [
    "a = np.array(a)"
   ]
  },
  {
   "cell_type": "code",
   "execution_count": 29,
   "metadata": {},
   "outputs": [
    {
     "name": "stdout",
     "output_type": "stream",
     "text": [
      "[[ 1  2  3]\n",
      " [ 4  5  6]\n",
      " [ 6  7  8]\n",
      " [ 9 10 11]]\n",
      "(4, 3)\n",
      "[[0.    0.    0.   ]\n",
      " [0.375 0.375 0.375]\n",
      " [0.625 0.625 0.625]\n",
      " [1.    1.    1.   ]]\n",
      "(4, 3)\n",
      "[[ 1  4  6  9]\n",
      " [ 2  5  7 10]\n",
      " [ 3  6  8 11]]\n",
      "[[0.  0.  0.  0. ]\n",
      " [0.5 0.5 0.5 0.5]\n",
      " [1.  1.  1.  1. ]]\n",
      "(3, 4)\n"
     ]
    },
    {
     "name": "stderr",
     "output_type": "stream",
     "text": [
      "C:\\Users\\Administrator\\Anaconda3\\lib\\site-packages\\sklearn\\utils\\validation.py:595: DataConversionWarning: Data with input dtype int32 was converted to float64 by MinMaxScaler.\n",
      "  warnings.warn(msg, DataConversionWarning)\n",
      "C:\\Users\\Administrator\\Anaconda3\\lib\\site-packages\\sklearn\\utils\\validation.py:595: DataConversionWarning: Data with input dtype int32 was converted to float64 by MinMaxScaler.\n",
      "  warnings.warn(msg, DataConversionWarning)\n"
     ]
    }
   ],
   "source": [
    "a= [[1,2,3,],[4,5,6],[6,7,8],[9,10,11]]\n",
    "a = np.array(a)\n",
    "print(a)\n",
    "print(a.shape)\n",
    "\n",
    "scaler = preprocessing.MinMaxScaler()\n",
    "a = scaler.fit_transform(a)\n",
    "print(a)\n",
    "print(a.shape)\n",
    "\n",
    "\n",
    "a= [[1,2,3,],[4,5,6],[6,7,8],[9,10,11]]\n",
    "a = np.array(a)\n",
    "a = np.moveaxis(a,[0,1],[1,0])\n",
    "\n",
    "\n",
    "print(a)\n",
    "scaler = preprocessing.MinMaxScaler()\n",
    "a = scaler.fit_transform(a)\n",
    "print(a)\n",
    "print(a.shape)\n"
   ]
  },
  {
   "cell_type": "code",
   "execution_count": 47,
   "metadata": {},
   "outputs": [
    {
     "name": "stdout",
     "output_type": "stream",
     "text": [
      "a의 shape (4, 3)\n",
      "flatten 전의 a scaler\n",
      "[[0.    0.    0.   ]\n",
      " [0.375 0.375 0.375]\n",
      " [0.625 0.625 0.625]\n",
      " [1.    1.    1.   ]]\n",
      "flatten A [[ 1  2  3]\n",
      " [ 4  5  6]\n",
      " [ 6  7  8]\n",
      " [ 9 10 11]]\n",
      "flatten 진행후 scaler\n",
      "[[0.  0.1 0.2]\n",
      " [0.3 0.4 0.5]\n",
      " [0.5 0.6 0.7]\n",
      " [0.8 0.9 1. ]]\n"
     ]
    },
    {
     "name": "stderr",
     "output_type": "stream",
     "text": [
      "C:\\Users\\Administrator\\Anaconda3\\lib\\site-packages\\sklearn\\utils\\validation.py:595: DataConversionWarning: Data with input dtype int32 was converted to float64 by MinMaxScaler.\n",
      "  warnings.warn(msg, DataConversionWarning)\n",
      "C:\\Users\\Administrator\\Anaconda3\\lib\\site-packages\\sklearn\\utils\\validation.py:595: DataConversionWarning: Data with input dtype int32 was converted to float64 by MinMaxScaler.\n",
      "  warnings.warn(msg, DataConversionWarning)\n"
     ]
    }
   ],
   "source": [
    "\n",
    "a= [[1,2,3,],[4,5,6],[6,7,8],[9,10,11]]\n",
    "a = np.array(a)\n",
    "print(\"a의 shape\",a.shape)\n",
    "mshape = a.shape\n",
    "print('flatten 전의 a scaler')\n",
    "a = scaler.fit_transform(a)\n",
    "print(a)\n",
    "\n",
    "a= [[1,2,3,],[4,5,6],[6,7,8],[9,10,11]]\n",
    "a = np.array(a)\n",
    "#a=a.flatten()\n",
    "print(\"flatten A\",a)\n",
    "a= a.reshape(-1,1)\n",
    "a = scaler.fit_transform(a)\n",
    "a=a.reshape(mshape)\n",
    "print('flatten 진행후 scaler')\n",
    "print(a)"
   ]
  },
  {
   "cell_type": "code",
   "execution_count": null,
   "metadata": {},
   "outputs": [],
   "source": []
  }
 ],
 "metadata": {
  "kernelspec": {
   "display_name": "Python 3",
   "language": "python",
   "name": "python3"
  },
  "language_info": {
   "codemirror_mode": {
    "name": "ipython",
    "version": 3
   },
   "file_extension": ".py",
   "mimetype": "text/x-python",
   "name": "python",
   "nbconvert_exporter": "python",
   "pygments_lexer": "ipython3",
   "version": "3.6.8"
  }
 },
 "nbformat": 4,
 "nbformat_minor": 2
}
